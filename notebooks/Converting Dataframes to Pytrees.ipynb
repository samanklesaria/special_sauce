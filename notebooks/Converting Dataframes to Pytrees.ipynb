{
 "cells": [
  {
   "cell_type": "markdown",
   "id": "a4a17e85-9026-40fe-b6fc-0052a1442c36",
   "metadata": {},
   "source": [
    "# Converting Dataframes to PyTrees"
   ]
  },
  {
   "cell_type": "markdown",
   "id": "9b68939c-44d8-40af-b2dc-280ae255c8c5",
   "metadata": {},
   "source": [
    "Numpyro models expect data in the form of a `pytrees`: nested lists or dictionaries of multidimensional arrays. But datasets usually don't start that way: we usually start by processing them as a `DataFrame`. How do we convert one representation to another?"
   ]
  },
  {
   "cell_type": "markdown",
   "id": "9e6b48f7-472b-4995-b1ca-f9eb62d271b5",
   "metadata": {},
   "source": [
    "Let's make this more concrete. Consider the following dataset:"
   ]
  },
  {
   "cell_type": "code",
   "execution_count": 1,
   "id": "d0f99345-884b-4259-8b3f-1e80c1216391",
   "metadata": {},
   "outputs": [],
   "source": [
    "import numpyro\n",
    "numpyro.set_host_device_count(4)\n",
    "import numpyro.distributions as dist\n",
    "from numpyro import handlers\n",
    "import pandas as pd\n",
    "import numpy as np\n",
    "import pyro_util\n",
    "import arviz as az"
   ]
  },
  {
   "cell_type": "code",
   "execution_count": 2,
   "id": "8a0f433a-60f0-4040-b169-341e7f052acd",
   "metadata": {},
   "outputs": [],
   "source": [
    "df = pd.DataFrame({'a': [1,2,1,2,1], 'b': [0,0,1,1,2], 'c': np.random.randn(5), 'd': np.random.randn(5)})"
   ]
  },
  {
   "cell_type": "code",
   "execution_count": 3,
   "id": "7330844c-d16d-414c-8a2f-99a74f104e1c",
   "metadata": {},
   "outputs": [
    {
     "data": {
      "text/html": [
       "<div>\n",
       "<style scoped>\n",
       "    .dataframe tbody tr th:only-of-type {\n",
       "        vertical-align: middle;\n",
       "    }\n",
       "\n",
       "    .dataframe tbody tr th {\n",
       "        vertical-align: top;\n",
       "    }\n",
       "\n",
       "    .dataframe thead th {\n",
       "        text-align: right;\n",
       "    }\n",
       "</style>\n",
       "<table border=\"1\" class=\"dataframe\">\n",
       "  <thead>\n",
       "    <tr style=\"text-align: right;\">\n",
       "      <th></th>\n",
       "      <th>a</th>\n",
       "      <th>b</th>\n",
       "      <th>c</th>\n",
       "      <th>d</th>\n",
       "    </tr>\n",
       "  </thead>\n",
       "  <tbody>\n",
       "    <tr>\n",
       "      <th>0</th>\n",
       "      <td>1</td>\n",
       "      <td>0</td>\n",
       "      <td>0.270611</td>\n",
       "      <td>-0.398499</td>\n",
       "    </tr>\n",
       "    <tr>\n",
       "      <th>1</th>\n",
       "      <td>2</td>\n",
       "      <td>0</td>\n",
       "      <td>0.021703</td>\n",
       "      <td>1.137016</td>\n",
       "    </tr>\n",
       "    <tr>\n",
       "      <th>2</th>\n",
       "      <td>1</td>\n",
       "      <td>1</td>\n",
       "      <td>-1.224725</td>\n",
       "      <td>0.647109</td>\n",
       "    </tr>\n",
       "    <tr>\n",
       "      <th>3</th>\n",
       "      <td>2</td>\n",
       "      <td>1</td>\n",
       "      <td>-1.138450</td>\n",
       "      <td>-0.481904</td>\n",
       "    </tr>\n",
       "    <tr>\n",
       "      <th>4</th>\n",
       "      <td>1</td>\n",
       "      <td>2</td>\n",
       "      <td>0.306106</td>\n",
       "      <td>0.516288</td>\n",
       "    </tr>\n",
       "  </tbody>\n",
       "</table>\n",
       "</div>"
      ],
      "text/plain": [
       "   a  b         c         d\n",
       "0  1  0  0.270611 -0.398499\n",
       "1  2  0  0.021703  1.137016\n",
       "2  1  1 -1.224725  0.647109\n",
       "3  2  1 -1.138450 -0.481904\n",
       "4  1  2  0.306106  0.516288"
      ]
     },
     "execution_count": 3,
     "metadata": {},
     "output_type": "execute_result"
    }
   ],
   "source": [
    "df"
   ]
  },
  {
   "cell_type": "markdown",
   "id": "ae1d5d9c-6ddb-49e4-bcd8-c5c17960c56a",
   "metadata": {},
   "source": [
    "Let's say we assume that there's a different latent mean for each value of $a$. We might write the following plated model:"
   ]
  },
  {
   "cell_type": "code",
   "execution_count": 25,
   "id": "46ea345a-b6ab-448c-9c13-c28928a1ac3f",
   "metadata": {},
   "outputs": [],
   "source": [
    "def model(c, d, mask):\n",
    "    with numpyro.plate(\"a\", 2):\n",
    "        means = numpyro.sample(\"mu\", dist.Normal(0, 10))\n",
    "        with numpyro.plate(\"b\", 3):\n",
    "            numpyro.sample(\"c\", dist.Normal(means, 1), obs=c, obs_mask=mask)\n",
    "            numpyro.sample(\"d\", dist.Normal(means, 1), obs=d, obs_mask=mask)"
   ]
  },
  {
   "cell_type": "markdown",
   "id": "2032b163-1eed-46df-8e9b-e58b1be3860f",
   "metadata": {},
   "source": [
    "But we don't have the `c`, `d`, and `mask` tensors needed for this model yet. We have to convert the dataframe into the appropriate pair of multidimensional arrays. "
   ]
  },
  {
   "cell_type": "markdown",
   "id": "c456f362-2388-438f-ba09-069fcbd9c081",
   "metadata": {},
   "source": [
    "First, we can group the dataframe by the plate names."
   ]
  },
  {
   "cell_type": "code",
   "execution_count": 26,
   "id": "433bb0c0-4882-4616-b622-59af14658b34",
   "metadata": {},
   "outputs": [],
   "source": [
    "cols = ['c', 'd']"
   ]
  },
  {
   "cell_type": "code",
   "execution_count": 27,
   "id": "09643b3a-0efb-48d7-b5d8-46aabb97da27",
   "metadata": {},
   "outputs": [],
   "source": [
    "plates = ['a', 'b']"
   ]
  },
  {
   "cell_type": "code",
   "execution_count": 28,
   "id": "10a4d0e4-0db2-4d83-a38e-13f9e53bb5a9",
   "metadata": {},
   "outputs": [],
   "source": [
    "grouped = df.groupby(plates)[cols].first()"
   ]
  },
  {
   "cell_type": "markdown",
   "id": "f4eb9295-6f7b-4bb8-a9c6-16b572f62b03",
   "metadata": {},
   "source": [
    "Next, we have to add `NaN` entries to the dataframe to give it a full rectangular shape."
   ]
  },
  {
   "cell_type": "code",
   "execution_count": 29,
   "id": "98e15b1c-556a-4611-9678-913f71016502",
   "metadata": {},
   "outputs": [],
   "source": [
    "gdf = grouped.reindex(index=pd.MultiIndex.from_product(grouped.index.levels))"
   ]
  },
  {
   "cell_type": "code",
   "execution_count": 30,
   "id": "9fcea097-4c35-4c43-aee9-3cb72a73f26e",
   "metadata": {},
   "outputs": [
    {
     "data": {
      "text/html": [
       "<div>\n",
       "<style scoped>\n",
       "    .dataframe tbody tr th:only-of-type {\n",
       "        vertical-align: middle;\n",
       "    }\n",
       "\n",
       "    .dataframe tbody tr th {\n",
       "        vertical-align: top;\n",
       "    }\n",
       "\n",
       "    .dataframe thead th {\n",
       "        text-align: right;\n",
       "    }\n",
       "</style>\n",
       "<table border=\"1\" class=\"dataframe\">\n",
       "  <thead>\n",
       "    <tr style=\"text-align: right;\">\n",
       "      <th></th>\n",
       "      <th></th>\n",
       "      <th>c</th>\n",
       "      <th>d</th>\n",
       "    </tr>\n",
       "    <tr>\n",
       "      <th>a</th>\n",
       "      <th>b</th>\n",
       "      <th></th>\n",
       "      <th></th>\n",
       "    </tr>\n",
       "  </thead>\n",
       "  <tbody>\n",
       "    <tr>\n",
       "      <th rowspan=\"3\" valign=\"top\">1</th>\n",
       "      <th>0</th>\n",
       "      <td>0.270611</td>\n",
       "      <td>-0.398499</td>\n",
       "    </tr>\n",
       "    <tr>\n",
       "      <th>1</th>\n",
       "      <td>-1.224725</td>\n",
       "      <td>0.647109</td>\n",
       "    </tr>\n",
       "    <tr>\n",
       "      <th>2</th>\n",
       "      <td>0.306106</td>\n",
       "      <td>0.516288</td>\n",
       "    </tr>\n",
       "    <tr>\n",
       "      <th rowspan=\"3\" valign=\"top\">2</th>\n",
       "      <th>0</th>\n",
       "      <td>0.021703</td>\n",
       "      <td>1.137016</td>\n",
       "    </tr>\n",
       "    <tr>\n",
       "      <th>1</th>\n",
       "      <td>-1.138450</td>\n",
       "      <td>-0.481904</td>\n",
       "    </tr>\n",
       "    <tr>\n",
       "      <th>2</th>\n",
       "      <td>NaN</td>\n",
       "      <td>NaN</td>\n",
       "    </tr>\n",
       "  </tbody>\n",
       "</table>\n",
       "</div>"
      ],
      "text/plain": [
       "            c         d\n",
       "a b                    \n",
       "1 0  0.270611 -0.398499\n",
       "  1 -1.224725  0.647109\n",
       "  2  0.306106  0.516288\n",
       "2 0  0.021703  1.137016\n",
       "  1 -1.138450 -0.481904\n",
       "  2       NaN       NaN"
      ]
     },
     "execution_count": 30,
     "metadata": {},
     "output_type": "execute_result"
    }
   ],
   "source": [
    "gdf"
   ]
  },
  {
   "cell_type": "markdown",
   "id": "53c37726-062c-40f0-a19b-d9088608a13c",
   "metadata": {},
   "source": [
    "Now, we can reshape the dataframe's values into a multidimensional array. "
   ]
  },
  {
   "cell_type": "code",
   "execution_count": 31,
   "id": "287afaac-0416-4bdc-9284-5234d8050dd0",
   "metadata": {},
   "outputs": [],
   "source": [
    "reshaped = np.reshape(gdf.values, (*gdf.index.levshape, len(cols)))"
   ]
  },
  {
   "cell_type": "markdown",
   "id": "aaa2779b-19ee-4c05-ad49-11cbf997f6ac",
   "metadata": {},
   "source": [
    "Finally, we can split the array into the two columns we need. "
   ]
  },
  {
   "cell_type": "code",
   "execution_count": 32,
   "id": "40ff38c2-c86e-4cc9-a8e7-788d8a01637c",
   "metadata": {},
   "outputs": [
    {
     "data": {
      "text/plain": [
       "[array([[ 0.27061132,  0.02170263],\n",
       "        [-1.22472478, -1.13844963],\n",
       "        [ 0.30610565,         nan]]),\n",
       " array([[-0.39849915,  1.13701604],\n",
       "        [ 0.6471092 , -0.48190389],\n",
       "        [ 0.5162882 ,         nan]])]"
      ]
     },
     "execution_count": 32,
     "metadata": {},
     "output_type": "execute_result"
    }
   ],
   "source": [
    "list(reshaped.transpose())"
   ]
  },
  {
   "cell_type": "markdown",
   "id": "79ca1bc4-1916-43dd-9dfd-1199c2f42a35",
   "metadata": {},
   "source": [
    "We can generate the `obs_mask` for numpyro by checking for nan values. Together, this gives us the following function:"
   ]
  },
  {
   "cell_type": "code",
   "execution_count": 40,
   "id": "a257b702-4083-4e54-9f3f-9f0028438cba",
   "metadata": {},
   "outputs": [],
   "source": [
    "def to_pytree(df, cols, groups):\n",
    "    grouped = df.groupby(groups)[cols].first()\n",
    "    gdf = grouped.reindex(index=pd.MultiIndex.from_product(grouped.index.levels))\n",
    "    reshaped = np.reshape(gdf.values, (*gdf.index.levshape, len(cols)))\n",
    "    results = list(reshaped.transpose())\n",
    "    results.append(~np.isnan(results[0]))\n",
    "    return results"
   ]
  },
  {
   "cell_type": "markdown",
   "id": "4cd38196-f571-45ad-b103-e392093ddbbb",
   "metadata": {},
   "source": [
    "Using it looks like this:"
   ]
  },
  {
   "cell_type": "code",
   "execution_count": 41,
   "id": "bd5b614f-6548-4b6b-9325-923eee8ffc60",
   "metadata": {},
   "outputs": [
    {
     "data": {
      "application/vnd.jupyter.widget-view+json": {
       "model_id": "11bda8b4d7934ed0b41dd352cc37fd66",
       "version_major": 2,
       "version_minor": 0
      },
      "text/plain": [
       "  0%|          | 0/1500 [00:00<?, ?it/s]"
      ]
     },
     "metadata": {},
     "output_type": "display_data"
    },
    {
     "data": {
      "application/vnd.jupyter.widget-view+json": {
       "model_id": "b74e2176840c42cb8de3a154062dd408",
       "version_major": 2,
       "version_minor": 0
      },
      "text/plain": [
       "  0%|          | 0/1500 [00:00<?, ?it/s]"
      ]
     },
     "metadata": {},
     "output_type": "display_data"
    },
    {
     "data": {
      "application/vnd.jupyter.widget-view+json": {
       "model_id": "40ce7888e7f047718857b5edee7bac32",
       "version_major": 2,
       "version_minor": 0
      },
      "text/plain": [
       "  0%|          | 0/1500 [00:00<?, ?it/s]"
      ]
     },
     "metadata": {},
     "output_type": "display_data"
    },
    {
     "data": {
      "application/vnd.jupyter.widget-view+json": {
       "model_id": "6c73a70653334ccebb0db18efc20057e",
       "version_major": 2,
       "version_minor": 0
      },
      "text/plain": [
       "  0%|          | 0/1500 [00:00<?, ?it/s]"
      ]
     },
     "metadata": {},
     "output_type": "display_data"
    }
   ],
   "source": [
    "mcmc = pyro_util.fit_nuts(model, *to_pytree(df, cols, plates))"
   ]
  },
  {
   "cell_type": "code",
   "execution_count": 46,
   "id": "d1b6e19a-fc32-4a06-b7e0-713456ddfd74",
   "metadata": {},
   "outputs": [],
   "source": [
    "result = az.from_numpyro(mcmc)"
   ]
  },
  {
   "cell_type": "markdown",
   "id": "fc38b290-8c4e-42dd-9ca3-d69cc8710be0",
   "metadata": {},
   "source": [
    "As expected, the posterior values of `mu` center around zero."
   ]
  },
  {
   "cell_type": "code",
   "execution_count": 52,
   "id": "884f3c86-55d4-4e68-bba1-4683d7d09809",
   "metadata": {},
   "outputs": [
    {
     "data": {
      "image/png": "[encoded data removed]",
      "text/plain": [
       "<Figure size 1472x552 with 2 Axes>"
      ]
     },
     "metadata": {},
     "output_type": "display_data"
    }
   ],
   "source": [
    "az.plot_posterior(result, var_names=['mu']);"
   ]
  },
  {
   "cell_type": "markdown",
   "id": "43942057-c652-4f16-9466-29c82cdddf3f",
   "metadata": {},
   "source": [
    "For future posts, I'll be importing this `to_pytree` function from my `pyro_util` module. "
   ]
  }
 ],
 "metadata": {
  "kernelspec": {
   "display_name": "Python 3 (ipykernel)",
   "language": "python",
   "name": "python3"
  },
  "language_info": {
   "codemirror_mode": {
    "name": "ipython",
    "version": 3
   },
   "file_extension": ".py",
   "mimetype": "text/x-python",
   "name": "python",
   "nbconvert_exporter": "python",
   "pygments_lexer": "ipython3",
   "version": "3.9.6"
  }
 },
 "nbformat": 4,
 "nbformat_minor": 5
}
